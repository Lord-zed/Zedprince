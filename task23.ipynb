{
 "cells": [
  {
   "cell_type": "markdown",
   "id": "5f4ed265",
   "metadata": {},
   "source": [
    "#### Twitter username and post validation using custom validation"
   ]
  },
  {
   "cell_type": "code",
   "execution_count": null,
   "id": "91e7ba1e",
   "metadata": {},
   "outputs": [],
   "source": [
    "from datetime import datetime\n",
    "from decimal import Decimal\n",
    "from pydantic import BaseModel, Field, ValidationError, field_validator\n",
    "from typing import List\n",
    "\n",
    "# Lets create the twitter model\n",
    "class TwitterUsername(BaseModel):\n",
    "\n",
    "\n",
    "        username: str = Field(..., min_length=4, max_length=15, pattern=r\"^[A-Za-z0-9_]+$\", )\n",
    "        # Checking username doesn't have Admin and twitter using decorator\n",
    "        @field_validator(\"username\")\n",
    "        def username_cannot_be(cls, v):\n",
    "                if v.lower() in {'admin', 'twitter'}:\n",
    "                        raise ValueError(\"Username cannot be Admin or Twitter\")\n",
    "        free_account_post_length: str = Field(..., min_length=1, max_length=280, pattern=r\"^[\\s\\S]+$\")\n",
    "        premium_account_post_length: str = Field(..., min_length=1, max_length=25000, pattern=r\"^[\\s\\S]+$\")\n",
    "        is_active: bool = Field(default=True)\n",
    "        created_at: datetime = Field(default_factory=datetime.now)"
   ]
  },
  {
   "cell_type": "code",
   "execution_count": 72,
   "id": "0817ae1c",
   "metadata": {},
   "outputs": [],
   "source": [
    "# Creating a demo for each variable using 'twitter' as the username and more than 280 characters for the free account.\n",
    "def demo_str_field():\n",
    "    print(\"Twitter Field Validation\")\n",
    "    try:\n",
    "        TwitterUsername(\n",
    "            \n",
    "            username=\"admin\",\n",
    "\n",
    "            free_account_post_length=\"Pydantic like typing is used to build a structured, type-safe data models.,\" \\\n",
    "            \" It uses these type hints to validate,serialize, parse and structure data automatically.,\" \\\n",
    "            \"In simple terms, It takes messy or untrusted data like API input, JSON or form data and checks that it matches your type definitions. ,\" \\\n",
    "            \"Now if the data type doesnt match, pydantic raises an error with a clear explanation.\", \n",
    "\n",
    "            premium_account_post_length=\"Pydantic like typing is used to build a structured, type-safe data models.,\" \\\n",
    "            \" It uses these type hints to validate,serialize, parse and structure data automatically.,\" \\\n",
    "            \"In simple terms, It takes messy or untrusted data like API input, JSON or form data and checks that it matches your type definitions. ,\" \\\n",
    "            \"Now if the data type doesnt match, pydantic raises an error with a clear explanation.\"\n",
    "                )\n",
    "    except ValidationError as e:\n",
    "        print(e)"
   ]
  },
  {
   "cell_type": "code",
   "execution_count": 73,
   "id": "0f6d95ae",
   "metadata": {},
   "outputs": [
    {
     "name": "stdout",
     "output_type": "stream",
     "text": [
      "Twitter Field Validation\n",
      "2 validation errors for TwitterUsername\n",
      "username\n",
      "  Value error, Username cannot be Admin or Twitter [type=value_error, input_value='admin', input_type=str]\n",
      "    For further information visit https://errors.pydantic.dev/2.12/v/value_error\n",
      "free_account_post_length\n",
      "  String should have at most 280 characters [type=string_too_long, input_value='Pydantic like typing is ...th a clear explanation.', input_type=str]\n",
      "    For further information visit https://errors.pydantic.dev/2.12/v/string_too_long\n"
     ]
    }
   ],
   "source": [
    "# Let's check the validation\n",
    "demo_str_field() \n"
   ]
  },
  {
   "cell_type": "code",
   "execution_count": 65,
   "id": "b232ef4b",
   "metadata": {},
   "outputs": [
    {
     "name": "stdout",
     "output_type": "stream",
     "text": [
      "\n",
      " Twitter Field Validation\n"
     ]
    }
   ],
   "source": [
    "#To fix\n",
    "def demo_str_field():\n",
    "    print(\"\\n Twitter Field Validation\")\n",
    "    account = TwitterUsername(\n",
    "        username=\"olawale_027\",\n",
    "        free_account_post_length=\"Pydantic like typing is used to build a structured, type-safe data models.,\" \\\n",
    "        \" It uses these type hints to validate,serialize, parse and structure data automatically.,\", \n",
    "\n",
    "        premium_account_post_length=\"Pydantic like typing is used to build a structured, type-safe data models.,\" \\\n",
    "        \" It uses these type hints to validate,serialize, parse and structure data automatically.,\" \\\n",
    "        \"In simple terms, It takes messy or untrusted data like API input, JSON or form data and checks that it matches your type definitions. ,\" \\\n",
    "        \"Now if the data type doesnt match, pydantic raises an error with a clear explanation.\"\n",
    "    )\n",
    "\n",
    "demo_str_field()"
   ]
  },
  {
   "cell_type": "code",
   "execution_count": 57,
   "id": "1ddf7212",
   "metadata": {},
   "outputs": [],
   "source": [
    "# Creating a demo to validate the bool\n",
    "def demo_bool_field():\n",
    "    print(\"\\n Boolean Field Default\")\n",
    "    \n",
    "    account = TwitterUsername(\n",
    "        username=\"Olawale_027\",\n",
    "        free_account_post_length=\"Pydantic like typing is used to build a structured, type-safe data models.,\" \\\n",
    "        \" It uses these type hints to validate,serialize, parse and structure data automatically.,\", \n",
    "\n",
    "        premium_account_post_length=\"Pydantic like typing is used to build a structured, type-safe data models.,\" \\\n",
    "        \" It uses these type hints to validate,serialize, parse and structure data automatically.,\" \\\n",
    "        \"In simple terms, It takes messy or untrusted data like API input, JSON or form data and checks that it matches your type definitions. ,\" \\\n",
    "        \"Now if the data type doesnt match, pydantic raises an error with a clear explanation.\"\n",
    "    )"
   ]
  },
  {
   "cell_type": "markdown",
   "id": "eca715d8",
   "metadata": {},
   "source": []
  },
  {
   "cell_type": "code",
   "execution_count": 58,
   "id": "f68e0b8f",
   "metadata": {},
   "outputs": [
    {
     "name": "stdout",
     "output_type": "stream",
     "text": [
      "\n",
      " Boolean Field Default\n"
     ]
    }
   ],
   "source": [
    "# bool field validation\n",
    "demo_bool_field()"
   ]
  },
  {
   "cell_type": "code",
   "execution_count": 59,
   "id": "42041251",
   "metadata": {},
   "outputs": [
    {
     "name": "stdout",
     "output_type": "stream",
     "text": [
      "\n",
      " Boolean Field Default\n",
      "Created at = 2025-10-16 11:01:36.510800\n"
     ]
    }
   ],
   "source": [
    "# Checking the time the demo was created\n",
    "def demo_datetime_field():\n",
    "    print(\"\\n Boolean Field Default\")\n",
    "    account = TwitterUsername(\n",
    "        username=\"Olawale_027\", \n",
    "        free_account_post_length=\"Pydantic like typing is used to build a structured, type-safe data models.,\" \\\n",
    "        \" It uses these type hints to validate,serialize, parse and structure data automatically.,\", \n",
    "\n",
    "        premium_account_post_length=\"Pydantic like typing is used to build a structured, type-safe data models.,\" \\\n",
    "        \" It uses these type hints to validate,serialize, parse and structure data automatically.,\" \\\n",
    "        \"In simple terms, It takes messy or untrusted data like API input, JSON or form data and checks that it matches your type definitions. ,\" \\\n",
    "        \"Now if the data type doesnt match, pydantic raises an error with a clear explanation.\"\n",
    "    )\n",
    "    print(\"Created at =\", account.created_at)\n",
    "\n",
    "demo_datetime_field()"
   ]
  }
 ],
 "metadata": {
  "kernelspec": {
   "display_name": "Python 3",
   "language": "python",
   "name": "python3"
  },
  "language_info": {
   "codemirror_mode": {
    "name": "ipython",
    "version": 3
   },
   "file_extension": ".py",
   "mimetype": "text/x-python",
   "name": "python",
   "nbconvert_exporter": "python",
   "pygments_lexer": "ipython3",
   "version": "3.13.7"
  }
 },
 "nbformat": 4,
 "nbformat_minor": 5
}
