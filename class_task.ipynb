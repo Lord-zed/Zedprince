{
 "cells": [
  {
   "cell_type": "markdown",
   "id": "cedd0a54",
   "metadata": {},
   "source": [
    "# CHI-SQUARE test for categorical data"
   ]
  },
  {
   "cell_type": "markdown",
   "id": "dfbea5ea",
   "metadata": {},
   "source": [
    "The chi-square test also known as the \"Expected vs Observed\" Test. It is a way to answer the question: \"Is the difference between what I observed and what I expected too big to be just a coincidence?\"\n",
    "\n",
    "- If the difference is small, it's probably just random chance. Your initial idea might be correct.\n",
    "\n",
    "- If the difference is large, it's unlikely to be a coincidence. Your initial idea is probably wrong.\n",
    "\n",
    "The two most common specific uses are:\n",
    "1) Goodness-of-Fit Test: Testing if your sample data fits a known or expected distribution.\n",
    "\n",
    "Example: You think a die is fair (each number should have a 1/6 chance). You roll it 60 times and count how many times each number appears. The Chi-Square test checks if your observed rolls fit the expected distribution of a fair die\n",
    "\n",
    "2) Test of Independence: Testing if two categorical variables are related or independent.\n",
    "\n",
    "Example: You want to see if there's a relationship between gender (Male/Female) and preference for a new product (Like/Dislike). You survey people and put the counts in a table. The Chi-Square test checks if the variables are independent (no relationship) or dependent (there is a relationship).\n",
    "\n",
    "The formular for chi-square test is: χ² = Σ [ (O - E)² / E ]. \n",
    "\n",
    " where χ² =This is the test statistic we calculate\n",
    "\n",
    " O: The Observed count in a category (what you actually saw).\n",
    "\n",
    " E: The Expected count in a category (what you expected to see if your initial idea was true).\n"
   ]
  },
  {
   "cell_type": "markdown",
   "id": "e51c9f82",
   "metadata": {},
   "source": [
    "# ANOVA\n",
    "\n",
    "ANOVA (for comparing more than two means) ANOVA Test is used to analyze the differences among the means of various groups using certain estimation procedures. ANOVA means analysis of variance. ANOVA test is a statistical significance test that is used to check whether the null hypothesis can be rejected or not during hypothesis testing. An ANOVA test can be either one-way or two-way depending upon the number of independent variables.\n",
    "\n",
    "The Key Question ANOVA Answers:\n",
    "\"Is the variance BETWEEN the groups significantly larger than the variance WITHIN the groups?\"\n",
    "\n",
    "If BETWEEN > WITHIN: The differences between the group means are bigger than what you'd expect from random chance alone. The factor (e.g., the fertilizer type) likely has a real effect.\n",
    "\n",
    "If BETWEEN = WITHIN: The differences between the group means are about the same as the natural variation within the groups. The factor probably doesn't have a real effect.\n",
    "\n",
    "TYPES\n",
    "\n",
    "One Way ANOVA One way ANOVA test is used to determine whether there is any difference between the means of three or more groups. A one way ANOVA will have only one independent variable.\n",
    "\n",
    "Two Way ANOVA The two way ANOVA has two independent variables. Thus, it can be thought of as an extension of a one way ANOVA where only one variable affects the dependent variable. A two way ANOVA test is used to check the main effect of each independent variable and to see if there is an interaction effect between them."
   ]
  },
  {
   "cell_type": "markdown",
   "id": "63f438b9",
   "metadata": {},
   "source": [
    "TWO TAILED TEST\n",
    "\n",
    "A two-tailed test is a statistical hypothesis test where the critical region (the area where we reject the null hypothesis) is located in both ends (tails) of the probability distribution. It is used to determine if a sample statistic is significantly different from a hypothesized population parameter, regardless of the direction of the difference.\n",
    "\n",
    "When to Use a Two-Tailed Test\n",
    "Use a two-tailed test when your research question is non-directional. You are testing the hypothesis that there is a statistically significant difference, but you are not predicting whether the result will be greater than or less than the expected value.\n",
    "\n",
    "Examples:\n",
    "\n",
    "Is there a difference in salary between men and women? (You don't predict which gender earns more).\n",
    "\n",
    "Does a new teaching method lead to different test scores than the standard method? (You don't predict if scores will be higher or lower).\n",
    "\n",
    "Is the coin fair? (You are testing if the probability of heads is different from 0.5, in either direction)."
   ]
  },
  {
   "cell_type": "markdown",
   "id": "1fefda2f",
   "metadata": {},
   "source": [
    "# PROPORTION TESTS\n",
    "\n",
    "A proportion test (or z-test for proportions) is a statistical hypothesis test used to determine if the proportion of items in a category from a sample is significantly different from a known or hypothesized population proportion.\n",
    "\n",
    "It checks if the percentage you see in your data is meaningfully different from what you expected or from another percentage.\n",
    "\n",
    "When to Use It\n",
    "\n",
    "we use a one-sample proportion test when:\n",
    "\n",
    "The data is categorical (especially binary, like Yes/No, Success/Failure).\n",
    "\n",
    "We want to compare a sample proportion (p̂) to a known or hypothesized population proportion (p₀)."
   ]
  }
 ],
 "metadata": {
  "language_info": {
   "name": "python"
  }
 },
 "nbformat": 4,
 "nbformat_minor": 5
}
