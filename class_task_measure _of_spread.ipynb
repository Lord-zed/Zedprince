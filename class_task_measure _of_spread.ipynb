{
 "cells": [
  {
   "cell_type": "markdown",
   "id": "8facf3a3",
   "metadata": {},
   "source": [
    "# Measures of Spread\n",
    "x=[4, 8, 6, 5, 3]\n",
    "$$ \\sigma^2 = \\frac{\\mathbb{E}[(x - \\bar{x})^2]}{n}$$\n",
    "\n",
    "$$ \\bar{x} = \\frac{4 + 8 + 6 + 5 + 3}{5} = 5.2 $$\n",
    "\n",
    "| $$ x $$  | $$(x - \\bar{x})$$ | $$(x - x)^2$$ |\n",
    "|----------|----------|----------|\n",
    "| 4        | -1.2     | 1.44   |\n",
    "| 8        | 2.8      | 7.84   |\n",
    "| 6        | 0.8      | 0.64   |\n",
    "| 5        | -0.2     | 0.04   |\n",
    "| 3        | 2.2      | 4.84   |\n",
    "|    |  **Total**        | **14.8**   |\n",
    "\n",
    "$$ \\sigma^2 = \\frac{14.8}{5} = 2.96$$\n"
   ]
  }
 ],
 "metadata": {
  "language_info": {
   "name": "python"
  }
 },
 "nbformat": 4,
 "nbformat_minor": 5
}
