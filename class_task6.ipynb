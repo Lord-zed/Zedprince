{
 "cells": [
  {
   "cell_type": "markdown",
   "id": "4785dc12",
   "metadata": {},
   "source": [
    "### Question 1"
   ]
  },
  {
   "cell_type": "markdown",
   "id": "6d726c60",
   "metadata": {},
   "source": [
    "\n",
    "                                    (1)\n",
    "\n",
    "scores: 5, 8, 10,12, 12, 12, 13,14,14,15,16,18,18,20,20\n",
    "\n",
    "Mean= (5+8+10+12+12+12+13+14+14+15+16+18+18+20+20)/ 15\n",
    "Mean= 13.8\n",
    "\n",
    "Median= 14\n",
    "\n",
    "Mode= 12\n",
    "\n",
    "\n",
    "                                         (2)\n",
    "if the lowest score (5) is to be change to 10, then the mean will definately change from 13.8 to 14.13.This is because an additional five point has been added which lead to an increase in mean."
   ]
  },
  {
   "cell_type": "markdown",
   "id": "cb06fcff",
   "metadata": {},
   "source": [
    "### Question 2"
   ]
  },
  {
   "cell_type": "markdown",
   "id": "140f6fb8",
   "metadata": {},
   "source": [
    "time= 15, 20, 20, 25,25,30,60,65,120\n",
    "\n",
    "mean= (15+20+20+25+25+30+60+65+120)/9\n",
    "mean=42.22\n",
    "\n",
    "median=25\n",
    "\n",
    "mode= 20 and 25\n",
    "\n",
    "(2)\n",
    "Median represent the typical time it takes the student to get to school, this is because it doesn't include the effect of the outlier 120min to determine it's value."
   ]
  },
  {
   "cell_type": "markdown",
   "id": "04f879e2",
   "metadata": {},
   "source": [
    "### Question 3"
   ]
  },
  {
   "cell_type": "markdown",
   "id": "3daf496e",
   "metadata": {},
   "source": [
    "shoe size=38, 39, 38, 40, 41, 42, 39, 39, 40, 38, 37, 39, 40, 41, 42\n",
    "\n",
    "(1)\n",
    "Mode=39\n",
    "\n",
    "(2)\n",
    "if a company want's to donate shoes, they should produce more of size 39. This is because it is the one with the most frequency.\n",
    "\n",
    "(3)\n",
    "if they want's to produce an average size that will fit the average student then it is advised to use mean, this is because as there are no outliers in the sizes then the mean will give the accurate average size that will fit the student.\n"
   ]
  }
 ],
 "metadata": {
  "kernelspec": {
   "display_name": "Python 3",
   "language": "python",
   "name": "python3"
  },
  "language_info": {
   "codemirror_mode": {
    "name": "ipython",
    "version": 3
   },
   "file_extension": ".py",
   "mimetype": "text/x-python",
   "name": "python",
   "nbconvert_exporter": "python",
   "pygments_lexer": "ipython3",
   "version": "3.13.7"
  }
 },
 "nbformat": 4,
 "nbformat_minor": 5
}
