{
 "cells": [
  {
   "cell_type": "markdown",
   "id": "b178d2cb",
   "metadata": {},
   "source": [
    "# Question 1"
   ]
  },
  {
   "cell_type": "markdown",
   "id": "da96f700",
   "metadata": {},
   "source": [
    "Matrix A is a (2 by 3) matrix\n",
    "\n",
    "Matrix B is a (3 by 2) matrix"
   ]
  },
  {
   "cell_type": "markdown",
   "id": "f0c21d5e",
   "metadata": {},
   "source": [
    "# Question 2"
   ]
  },
  {
   "cell_type": "markdown",
   "id": "48f2ea90",
   "metadata": {},
   "source": [
    "The matrices can  be multiplied, this is so because the number of columns of matrix A is same as the number of rows of matrix B. It can be multiplied in both (AB),(BA) format."
   ]
  },
  {
   "cell_type": "code",
   "execution_count": null,
   "id": "dae65596",
   "metadata": {},
   "outputs": [
    {
     "name": "stdout",
     "output_type": "stream",
     "text": [
      "Multiplying matrix A and B will give\n",
      " [[19 -5]\n",
      " [-3 -3]]\n",
      "Multiplying matrix A and B will give\n",
      " [[  2   7   5]\n",
      " [ -4   2  -6]\n",
      " [ 10 -17  12]]\n"
     ]
    }
   ],
   "source": [
    "import numpy as np\n",
    "np.set_printoptions(precision=3, suppress=True)\n",
    "\n",
    "matrixA= np.array([[2,-1,3],[0,4,1]])\n",
    "\n",
    "matrixB=np.array([[1,2],[-2,0],[5,-3]])\n",
    "\n",
    "matrixAB=matrixA.dot(matrixB)\n",
    "print(\"Multiplying matrix A and B will give\\n\",matrixAB)\n",
    "\n",
    "matrixBA=matrixB.dot(matrixA)\n",
    "print(\"Multiplying matrix B and A will give\\n\",matrixBA)\n"
   ]
  }
 ],
 "metadata": {
  "kernelspec": {
   "display_name": "Python 3",
   "language": "python",
   "name": "python3"
  },
  "language_info": {
   "codemirror_mode": {
    "name": "ipython",
    "version": 3
   },
   "file_extension": ".py",
   "mimetype": "text/x-python",
   "name": "python",
   "nbconvert_exporter": "python",
   "pygments_lexer": "ipython3",
   "version": "3.13.6"
  }
 },
 "nbformat": 4,
 "nbformat_minor": 5
}
