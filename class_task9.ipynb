{
 "cells": [
  {
   "cell_type": "markdown",
   "id": "b299ec04",
   "metadata": {},
   "source": [
    "Task:\n",
    "\n",
    "Is the beef consumption in Argentina significantly different from that in Bangladesh?\n",
    "\n",
    "H₀: Mean beef consumption (Argentina) = Mean beef consumption (Bangladesh)\n",
    "\n",
    "H₁: Mean beef consumption (Argentina) ≠ Mean beef consumption (Bangladesh)"
   ]
  },
  {
   "cell_type": "code",
   "execution_count": 3,
   "id": "2a0f198e",
   "metadata": {},
   "outputs": [],
   "source": [
    "import gdown"
   ]
  },
  {
   "cell_type": "code",
   "execution_count": null,
   "id": "09bbcf1c",
   "metadata": {},
   "outputs": [
    {
     "name": "stderr",
     "output_type": "stream",
     "text": [
      "Downloading...\n",
      "From: https://drive.google.com/uc?id=1yB5qSBOLl96Y563nIewKOU8RN_gsY3dO\n",
      "To: c:\\Users\\ncc101\\Desktop\\Zedprince-1\\data.csv\n",
      "100%|██████████| 52.0k/52.0k [00:00<00:00, 56.3MB/s]\n"
     ]
    },
    {
     "data": {
      "text/plain": [
       "'data.csv'"
      ]
     },
     "execution_count": 2,
     "metadata": {},
     "output_type": "execute_result"
    }
   ],
   "source": [
    "file_id = '1yB5qSBOLl96Y563nIewKOU8RN_gsY3dO'  \n",
    "gdown.download(f'https://drive.google.com/uc?id={file_id}', 'data.csv', quiet=False)"
   ]
  },
  {
   "cell_type": "code",
   "execution_count": 4,
   "id": "5056424f",
   "metadata": {},
   "outputs": [],
   "source": [
    "import pandas as pd\n",
    "import numpy as np\n",
    "import scipy\n"
   ]
  },
  {
   "cell_type": "code",
   "execution_count": 5,
   "id": "db236b0a",
   "metadata": {},
   "outputs": [
    {
     "data": {
      "text/html": [
       "<div>\n",
       "<style scoped>\n",
       "    .dataframe tbody tr th:only-of-type {\n",
       "        vertical-align: middle;\n",
       "    }\n",
       "\n",
       "    .dataframe tbody tr th {\n",
       "        vertical-align: top;\n",
       "    }\n",
       "\n",
       "    .dataframe thead th {\n",
       "        text-align: right;\n",
       "    }\n",
       "</style>\n",
       "<table border=\"1\" class=\"dataframe\">\n",
       "  <thead>\n",
       "    <tr style=\"text-align: right;\">\n",
       "      <th></th>\n",
       "      <th>country</th>\n",
       "      <th>food_category</th>\n",
       "      <th>consumption</th>\n",
       "      <th>co2_emission</th>\n",
       "    </tr>\n",
       "  </thead>\n",
       "  <tbody>\n",
       "    <tr>\n",
       "      <th>0</th>\n",
       "      <td>Argentina</td>\n",
       "      <td>pork</td>\n",
       "      <td>10.51</td>\n",
       "      <td>37.20</td>\n",
       "    </tr>\n",
       "    <tr>\n",
       "      <th>1</th>\n",
       "      <td>Argentina</td>\n",
       "      <td>poultry</td>\n",
       "      <td>38.66</td>\n",
       "      <td>41.53</td>\n",
       "    </tr>\n",
       "    <tr>\n",
       "      <th>2</th>\n",
       "      <td>Argentina</td>\n",
       "      <td>beef</td>\n",
       "      <td>55.48</td>\n",
       "      <td>1712.00</td>\n",
       "    </tr>\n",
       "    <tr>\n",
       "      <th>3</th>\n",
       "      <td>Argentina</td>\n",
       "      <td>lamb_goat</td>\n",
       "      <td>1.56</td>\n",
       "      <td>54.63</td>\n",
       "    </tr>\n",
       "    <tr>\n",
       "      <th>4</th>\n",
       "      <td>Argentina</td>\n",
       "      <td>fish</td>\n",
       "      <td>4.36</td>\n",
       "      <td>6.96</td>\n",
       "    </tr>\n",
       "  </tbody>\n",
       "</table>\n",
       "</div>"
      ],
      "text/plain": [
       "     country food_category  consumption  co2_emission\n",
       "0  Argentina          pork        10.51         37.20\n",
       "1  Argentina       poultry        38.66         41.53\n",
       "2  Argentina          beef        55.48       1712.00\n",
       "3  Argentina     lamb_goat         1.56         54.63\n",
       "4  Argentina          fish         4.36          6.96"
      ]
     },
     "execution_count": 5,
     "metadata": {},
     "output_type": "execute_result"
    }
   ],
   "source": [
    "df=pd.read_csv('data.csv')\n",
    "\n",
    "df.drop('Unnamed: 0', axis=1, inplace=True)\n",
    "df.head()"
   ]
  },
  {
   "cell_type": "code",
   "execution_count": 6,
   "id": "f83164a2",
   "metadata": {},
   "outputs": [
    {
     "data": {
      "text/html": [
       "<div>\n",
       "<style scoped>\n",
       "    .dataframe tbody tr th:only-of-type {\n",
       "        vertical-align: middle;\n",
       "    }\n",
       "\n",
       "    .dataframe tbody tr th {\n",
       "        vertical-align: top;\n",
       "    }\n",
       "\n",
       "    .dataframe thead th {\n",
       "        text-align: right;\n",
       "    }\n",
       "</style>\n",
       "<table border=\"1\" class=\"dataframe\">\n",
       "  <thead>\n",
       "    <tr style=\"text-align: right;\">\n",
       "      <th></th>\n",
       "      <th>Unnamed: 0</th>\n",
       "      <th>consumption</th>\n",
       "      <th>co2_emission</th>\n",
       "    </tr>\n",
       "  </thead>\n",
       "  <tbody>\n",
       "    <tr>\n",
       "      <th>count</th>\n",
       "      <td>1430.000000</td>\n",
       "      <td>1430.000000</td>\n",
       "      <td>1430.000000</td>\n",
       "    </tr>\n",
       "    <tr>\n",
       "      <th>mean</th>\n",
       "      <td>715.500000</td>\n",
       "      <td>28.110406</td>\n",
       "      <td>74.383993</td>\n",
       "    </tr>\n",
       "    <tr>\n",
       "      <th>std</th>\n",
       "      <td>412.949755</td>\n",
       "      <td>49.818044</td>\n",
       "      <td>152.098566</td>\n",
       "    </tr>\n",
       "    <tr>\n",
       "      <th>min</th>\n",
       "      <td>1.000000</td>\n",
       "      <td>0.000000</td>\n",
       "      <td>0.000000</td>\n",
       "    </tr>\n",
       "    <tr>\n",
       "      <th>25%</th>\n",
       "      <td>358.250000</td>\n",
       "      <td>2.365000</td>\n",
       "      <td>5.210000</td>\n",
       "    </tr>\n",
       "    <tr>\n",
       "      <th>50%</th>\n",
       "      <td>715.500000</td>\n",
       "      <td>8.890000</td>\n",
       "      <td>16.530000</td>\n",
       "    </tr>\n",
       "    <tr>\n",
       "      <th>75%</th>\n",
       "      <td>1072.750000</td>\n",
       "      <td>28.132500</td>\n",
       "      <td>62.597500</td>\n",
       "    </tr>\n",
       "    <tr>\n",
       "      <th>max</th>\n",
       "      <td>1430.000000</td>\n",
       "      <td>430.760000</td>\n",
       "      <td>1712.000000</td>\n",
       "    </tr>\n",
       "  </tbody>\n",
       "</table>\n",
       "</div>"
      ],
      "text/plain": [
       "        Unnamed: 0  consumption  co2_emission\n",
       "count  1430.000000  1430.000000   1430.000000\n",
       "mean    715.500000    28.110406     74.383993\n",
       "std     412.949755    49.818044    152.098566\n",
       "min       1.000000     0.000000      0.000000\n",
       "25%     358.250000     2.365000      5.210000\n",
       "50%     715.500000     8.890000     16.530000\n",
       "75%    1072.750000    28.132500     62.597500\n",
       "max    1430.000000   430.760000   1712.000000"
      ]
     },
     "execution_count": 6,
     "metadata": {},
     "output_type": "execute_result"
    }
   ],
   "source": [
    "df.describe()"
   ]
  },
  {
   "cell_type": "markdown",
   "id": "55c904fd",
   "metadata": {},
   "source": [
    "### Test of Hypothesis"
   ]
  },
  {
   "cell_type": "code",
   "execution_count": 6,
   "id": "cdbbd337",
   "metadata": {},
   "outputs": [],
   "source": [
    "from scipy import stats"
   ]
  },
  {
   "cell_type": "markdown",
   "id": "9975f067",
   "metadata": {},
   "source": [
    "One sample t-Test\n",
    "\n",
    "Question:Is the beef consumption in Argentina significantly different from that in Bangladesh?\n",
    "\n",
    "H₀: Mean beef consumption (Argentina) = Mean beef consumption (Bangladesh)\n",
    "\n",
    "H₁: Mean beef consumption (Argentina) ≠ Mean beef consumption (Bangladesh)"
   ]
  },
  {
   "cell_type": "code",
   "execution_count": 8,
   "id": "662708ee",
   "metadata": {},
   "outputs": [
    {
     "name": "stdout",
     "output_type": "stream",
     "text": [
      "Argentina beef:\n",
      "      country food_category  consumption  co2_emission\n",
      "2  Argentina          beef        55.48        1712.0\n",
      "Bangladesh beef\n",
      "          country food_category  consumption  co2_emission\n",
      "1421  Bangladesh          beef         1.28          39.5\n"
     ]
    }
   ],
   "source": [
    "# select Argentina and Bangladesh beef consumption\n",
    "arg_beef=df[(df['country']=='Argentina')& (df['food_category']=='beef')]\n",
    "print('Argentina beef:\\n',arg_beef.head())\n",
    "\n",
    "bang_beef=df[(df['country']==\"Bangladesh\")&(df['food_category']==\"beef\")]\n",
    "print('Bangladesh beef\\n',bang_beef.head())"
   ]
  },
  {
   "cell_type": "code",
   "execution_count": 10,
   "id": "1f86087b",
   "metadata": {},
   "outputs": [],
   "source": [
    "arg_consp=arg_beef['consumption']\n",
    "bang_consp=bang_beef['consumption']"
   ]
  },
  {
   "cell_type": "code",
   "execution_count": 13,
   "id": "cda93dae",
   "metadata": {},
   "outputs": [
    {
     "name": "stdout",
     "output_type": "stream",
     "text": [
      "Argentinas comsumption mean:\n",
      " 55.48\n",
      "Bangladesh consumption mean:\n",
      " 1.28\n"
     ]
    }
   ],
   "source": [
    "arg_consp_mean=arg_consp.mean()\n",
    "print('Argentinas comsumption mean:\\n',arg_consp_mean)\n",
    "\n",
    "bang_consp_mean=bang_consp.mean()\n",
    "print('Bangladesh consumption mean:\\n',bang_consp_mean)"
   ]
  },
  {
   "cell_type": "code",
   "execution_count": 15,
   "id": "6715cdd6",
   "metadata": {},
   "outputs": [],
   "source": [
    "arg_beef_sample = np.random.normal(loc=arg_consp_mean, scale=5,size=30)\n",
    "bang_beef_sample=np.random.normal(loc=bang_consp_mean, scale=5, size=30)\n"
   ]
  },
  {
   "cell_type": "code",
   "execution_count": 21,
   "id": "baaa0ebf",
   "metadata": {},
   "outputs": [
    {
     "name": "stdout",
     "output_type": "stream",
     "text": [
      "T-statistics: 39.57098770065068\n",
      "P-Value: 1.1467358301114817e-43\n"
     ]
    }
   ],
   "source": [
    "# one sample t-test\n",
    "t_stat,p_val=stats.ttest_ind(arg_beef_sample,bang_beef_sample)\n",
    "print('T-statistics:',t_stat)\n",
    "print('P-Value:',p_val)\n"
   ]
  },
  {
   "cell_type": "markdown",
   "id": "5c1505e8",
   "metadata": {},
   "source": [
    "Interpretation :\n",
    "\n",
    "If p < 0.05, reject H₀ → beef consumption differs significantly.\n",
    "\n",
    "If p ≥ 0.05, fail to reject H₀."
   ]
  },
  {
   "cell_type": "markdown",
   "id": "af7f12a3",
   "metadata": {},
   "source": [
    "Decision:\n",
    "\n",
    "since p < 0.05, therefore we reject the H₀"
   ]
  }
 ],
 "metadata": {
  "kernelspec": {
   "display_name": "Python 3",
   "language": "python",
   "name": "python3"
  },
  "language_info": {
   "codemirror_mode": {
    "name": "ipython",
    "version": 3
   },
   "file_extension": ".py",
   "mimetype": "text/x-python",
   "name": "python",
   "nbconvert_exporter": "python",
   "pygments_lexer": "ipython3",
   "version": "3.13.7"
  }
 },
 "nbformat": 4,
 "nbformat_minor": 5
}
