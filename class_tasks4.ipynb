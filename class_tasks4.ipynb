{
 "cells": [
  {
   "cell_type": "markdown",
   "id": "8b4a9d77",
   "metadata": {},
   "source": [
    "## Student Performance Analysis With Linear Algebra"
   ]
  },
  {
   "cell_type": "markdown",
   "id": "1168a767",
   "metadata": {},
   "source": [
    "## 1 . Analysis 2. Exercises"
   ]
  },
  {
   "cell_type": "code",
   "execution_count": 154,
   "id": "5392492f",
   "metadata": {},
   "outputs": [],
   "source": [
    "import numpy as np"
   ]
  },
  {
   "cell_type": "markdown",
   "id": "7a3d5857",
   "metadata": {},
   "source": [
    "### 1. Analysis"
   ]
  },
  {
   "cell_type": "markdown",
   "id": "f136c949",
   "metadata": {},
   "source": [
    " #### 3.1 Representing Data as a matrix\n",
    "\n",
    "$$\n",
    "Scores = \\begin{bmatrix}\n",
    "80 & 70 & 90 \\\\\n",
    "60 & 85 & 75 \\\\\n",
    "95 & 88 & 92 \\\\\n",
    "70 & 60 & 65 \n",
    "\\end{bmatrix}\n",
    "\n",
    "\n",
    "\n"
   ]
  },
  {
   "cell_type": "code",
   "execution_count": 155,
   "id": "e7b35842",
   "metadata": {},
   "outputs": [
    {
     "name": "stdout",
     "output_type": "stream",
     "text": [
      "[[80 70 90]\n",
      " [60 85 75]\n",
      " [95 88 92]\n",
      " [70 60 65]]\n"
     ]
    }
   ],
   "source": [
    "scores = np.array([[80,70,90],[60,85,75],[95,88,92],[70,60,65]])\n",
    "student1_scores = np.array([80,70,90])\n",
    "student2_scores = np.array([60,85,75])\n",
    "student3_scores = np.array([95,88,92])\n",
    "student4_scores = np.array([70,60,65])\n",
    "print(scores)"
   ]
  },
  {
   "cell_type": "markdown",
   "id": "b64d4d06",
   "metadata": {},
   "source": [
    "#### 3.2 Total Scores per Student (Vector Addition)\n",
    "\n",
    "student 1 = [80 + 70 + 90] = 240\n",
    "<br>\n",
    "\n",
    "student 2 = [60 + 85 + 75] = 220\n",
    "<br>\n",
    "\n",
    "student 3 = [95 + 88 + 92] = 275\n",
    "<br>\n",
    "\n",
    "student 4 = [70 + 60 + 65] = 195"
   ]
  },
  {
   "cell_type": "code",
   "execution_count": 156,
   "id": "82252795",
   "metadata": {},
   "outputs": [
    {
     "name": "stdout",
     "output_type": "stream",
     "text": [
      "Student 1 total score is 240\n"
     ]
    }
   ],
   "source": [
    "student1_scores.sum()\n",
    "print(f\"Student 1 total score is {student1_scores.sum()}\")"
   ]
  },
  {
   "cell_type": "code",
   "execution_count": 157,
   "id": "29500317",
   "metadata": {},
   "outputs": [
    {
     "name": "stdout",
     "output_type": "stream",
     "text": [
      "Student 2 total score is 220\n"
     ]
    }
   ],
   "source": [
    "student2_scores.sum()\n",
    "print(f\"Student 2 total score is {student2_scores.sum()}\")"
   ]
  },
  {
   "cell_type": "code",
   "execution_count": 158,
   "id": "13ec1067",
   "metadata": {},
   "outputs": [
    {
     "name": "stdout",
     "output_type": "stream",
     "text": [
      "Student 3 total score is 275\n"
     ]
    }
   ],
   "source": [
    "student3_scores.sum()\n",
    "print(f\"Student 3 total score is {student3_scores.sum()}\")"
   ]
  },
  {
   "cell_type": "code",
   "execution_count": 159,
   "id": "e6e23f4b",
   "metadata": {},
   "outputs": [
    {
     "name": "stdout",
     "output_type": "stream",
     "text": [
      "Student 4 total score is 240\n"
     ]
    }
   ],
   "source": [
    "student4_scores.sum()\n",
    "print(f\"Student 4 total score is {student1_scores.sum()}\")"
   ]
  },
  {
   "cell_type": "markdown",
   "id": "1479c519",
   "metadata": {},
   "source": [
    "#### 3.3 Aplying Weights (Scalar Multiplication)\n",
    "Maths_scalar = 2\n",
    "<br>\n",
    "English_scalar = 1.5\n",
    "<br>\n",
    "Science_scalar = 1\n",
    "<br>\n",
    "\n",
    "Maths_weight = 2(Math_scores)\n",
    "\n",
    "$$\n",
    "Maths Weight = \\begin{bmatrix}\n",
    "160 \\\\\n",
    "120 \\\\\n",
    "190 \\\\\n",
    "140 \\\\\n",
    "\\end{bmatrix}\n"
   ]
  },
  {
   "cell_type": "code",
   "execution_count": 160,
   "id": "1000ec71",
   "metadata": {},
   "outputs": [
    {
     "name": "stdout",
     "output_type": "stream",
     "text": [
      "Mathematics Weight : [160 120 190 140]\n"
     ]
    }
   ],
   "source": [
    "scalar_weight = [2,1.5,1]\n",
    "Maths_weight = scalar_weight[0] * scores[:,0]\n",
    "print(\"Mathematics Weight :\",Maths_weight)"
   ]
  },
  {
   "cell_type": "markdown",
   "id": "a71f53c2",
   "metadata": {},
   "source": [
    "\n",
    "English_weight = 2(English_scores)\n",
    "\n",
    "$$\n",
    "English Weight = \\begin{bmatrix}\n",
    "105 \\\\\n",
    "127.5 \\\\\n",
    "132 \\\\\n",
    "90 \\\\\n",
    "\\end{bmatrix}"
   ]
  },
  {
   "cell_type": "code",
   "execution_count": 161,
   "id": "71948627",
   "metadata": {},
   "outputs": [
    {
     "name": "stdout",
     "output_type": "stream",
     "text": [
      "English Language Weight : [105.  127.5 132.   90. ]\n"
     ]
    }
   ],
   "source": [
    "English_weight = scalar_weight[1] * scores[:,1]\n",
    "print(\"English Language Weight :\",English_weight)"
   ]
  },
  {
   "cell_type": "markdown",
   "id": "74ff4168",
   "metadata": {},
   "source": [
    "\n",
    "Science_weight = 1(Science_scores)\n",
    "\n",
    "$$\n",
    "Science Weight = \\begin{bmatrix}\n",
    "90 \\\\\n",
    "75 \\\\\n",
    "92 \\\\\n",
    "65 \\\\\n",
    "\\end{bmatrix}"
   ]
  },
  {
   "cell_type": "code",
   "execution_count": 162,
   "id": "9d7e2011",
   "metadata": {},
   "outputs": [
    {
     "name": "stdout",
     "output_type": "stream",
     "text": [
      "Science Weight : [90 75 92 65]\n"
     ]
    }
   ],
   "source": [
    "Science_weight = scalar_weight[2] * scores[:,2]\n",
    "print(\"Science Weight :\",Science_weight)"
   ]
  },
  {
   "cell_type": "markdown",
   "id": "bb4dbd62",
   "metadata": {},
   "source": [
    "#### 3.4 Average Score per Subject (Matrix Operations)\n",
    "\n",
    "Maths_Average = (80 + 60 + 95 + 70)/4 = 305/4 = 76.25\n",
    "<br>\n",
    "\n",
    "English_Average = (70 + 85 + 88 + 60)/4 = 303/4 = 75.75\n",
    "<br>\n",
    "\n",
    "Science_Average = (90 + 75 + 92 + 65) = 322/4 = 80.5"
   ]
  },
  {
   "cell_type": "code",
   "execution_count": 163,
   "id": "0dbfb1e6",
   "metadata": {},
   "outputs": [
    {
     "name": "stdout",
     "output_type": "stream",
     "text": [
      "Average Maths scores : 76.25\n",
      "Average English scores : 75.75\n",
      "Average Science scores : 80.5\n"
     ]
    }
   ],
   "source": [
    "# Average Score per Students\n",
    "\n",
    "Scores_per_subject = np.mean(scores,axis = 0)\n",
    "scoress = ['Maths','English','Science']\n",
    "b = 1\n",
    "for scoress,st in zip(scoress,Scores_per_subject):\n",
    "    print(f\"Average {scoress} scores : {st}\")\n",
    "    b+=1"
   ]
  },
  {
   "cell_type": "markdown",
   "id": "a32865e5",
   "metadata": {},
   "source": [
    "#### 3.5 Final Grades using Matrix Multiplication\n",
    "\n",
    "weight_vector = [0.5 , 0.3 ,0.2]\n",
    "\n",
    "Math_final_grades :\n",
    "$$\n",
    "0.5*Maths_Scores = \\begin{bmatrix}\n",
    "40 \\\\\n",
    "30 \\\\\n",
    "47.5 \\\\\n",
    "35\n",
    "\\end{bmatrix}\n",
    "\n",
    "\n"
   ]
  },
  {
   "cell_type": "code",
   "execution_count": 164,
   "id": "4f055b62",
   "metadata": {},
   "outputs": [
    {
     "name": "stdout",
     "output_type": "stream",
     "text": [
      "Mathematics Final grades : \n",
      "[[40. ]\n",
      " [30. ]\n",
      " [47.5]\n",
      " [35. ]]\n"
     ]
    }
   ],
   "source": [
    "# Math fnal grades \n",
    "scalar_math = 0.5\n",
    "Math_final_grades = scalar_math * scores[:,0]\n",
    "print(f\"Mathematics Final grades : \\n{Math_final_grades.reshape(4,1)}\")"
   ]
  },
  {
   "cell_type": "markdown",
   "id": "e79b33c2",
   "metadata": {},
   "source": [
    "\n",
    "\n",
    "English_final_grades :\n",
    "$$\n",
    "0.3*English_Scores = \\begin{bmatrix}\n",
    "21 \\\\\n",
    "25.5 \\\\\n",
    "26.4 \\\\\n",
    "18\n",
    "\\end{bmatrix}\n"
   ]
  },
  {
   "cell_type": "code",
   "execution_count": 165,
   "id": "7f06b6b1",
   "metadata": {},
   "outputs": [
    {
     "name": "stdout",
     "output_type": "stream",
     "text": [
      "English Final grades : \n",
      "[[21. ]\n",
      " [25.5]\n",
      " [26.4]\n",
      " [18. ]]\n"
     ]
    }
   ],
   "source": [
    "# English fnal grades \n",
    "scalar_english = 0.3\n",
    "English_final_grades = scalar_english * scores[:,1]\n",
    "print(f\"English Final grades : \\n{English_final_grades.reshape(4,1)}\")"
   ]
  },
  {
   "cell_type": "markdown",
   "id": "17e41d1d",
   "metadata": {},
   "source": [
    "\n",
    "Science_final_grades :\n",
    "$$\n",
    "0.2*Science_Scores = \\begin{bmatrix}\n",
    "18 \\\\\n",
    "15 \\\\\n",
    "18.4 \\\\\n",
    "13\n",
    "\\end{bmatrix}\n"
   ]
  },
  {
   "cell_type": "code",
   "execution_count": 166,
   "id": "e2aade8d",
   "metadata": {},
   "outputs": [
    {
     "name": "stdout",
     "output_type": "stream",
     "text": [
      "Science Final grades : \n",
      "[[18. ]\n",
      " [15. ]\n",
      " [18.4]\n",
      " [13. ]]\n"
     ]
    }
   ],
   "source": [
    "# Science fnal grades \n",
    "scalar_science = 0.2\n",
    "Science_final_grades = scalar_science * scores[:,2]\n",
    "print(f\"Science Final grades : \\n{Science_final_grades.reshape(4,1)}\")"
   ]
  },
  {
   "cell_type": "markdown",
   "id": "1a094dad",
   "metadata": {},
   "source": [
    "#### 3.6 Comparing Students (Vector Subtraction)\n",
    "student1_Math_score = 80\n",
    "<br>\n",
    "\n",
    "student1_English_score = 70\n",
    "<br>\n",
    "\n",
    "Student1_scores = [80 + 70 + 90] = 240\n",
    "<br>\n",
    "\n",
    "\n",
    "student2_Math_score = 60\n",
    "<br>\n",
    "\n",
    "student2_English_score = 85\n",
    "<br>\n",
    "\n",
    "Student2_scores = [60 + 85 + 75] = 220\n",
    "<br>\n",
    "\n",
    "\n",
    "student1_Math_score - student2_Math_score = 80 - 60 = 20\n",
    "<br>\n",
    "\n",
    "#### Student1 performed better in Mathematics than student 2\n",
    "<br>\n",
    "\n",
    "student1_Eglish_score - student2_English_score = 70 - 85 = -15\n",
    "<br>\n",
    "\n",
    "#### Student2 performed better in English Language than student 1\n",
    "<br>\n",
    "\n",
    "\n",
    "student1_Science_score - student2_Science_score = 90 - 75 = 15\n",
    "<br>\n",
    "\n",
    "#### Student1 performed better in Science than student 2\n",
    "<br>\n",
    "\n",
    "\n",
    "Overall :\n",
    "<br>\n",
    "\n",
    "Student1_scores = [80 + 70 + 90] = 240  -   Student2_scores = [60 + 85 + 75] = 220\n",
    "<br>\n",
    "\n",
    "### Student 1 performed better overall than Student 2"
   ]
  },
  {
   "cell_type": "code",
   "execution_count": 167,
   "id": "0e614d31",
   "metadata": {},
   "outputs": [
    {
     "name": "stdout",
     "output_type": "stream",
     "text": [
      "Student 1 performed better than Student 2 in Mathematics with a difference of 20\n"
     ]
    }
   ],
   "source": [
    "Math_compared = scores[0,0] - scores[1,0]\n",
    "print(f\"Student 1 performed better than Student 2 in Mathematics with a difference of {Math_compared}\")"
   ]
  },
  {
   "cell_type": "code",
   "execution_count": 168,
   "id": "88dd24ad",
   "metadata": {},
   "outputs": [
    {
     "name": "stdout",
     "output_type": "stream",
     "text": [
      "Student 2 performed better than Student 1 in Engish with a difference of 15\n"
     ]
    }
   ],
   "source": [
    "English_compared = scores[0,1] - scores[1,1]\n",
    "print(f\"Student 2 performed better than Student 1 in Engish with a difference of 15\")\n"
   ]
  },
  {
   "cell_type": "code",
   "execution_count": 169,
   "id": "20fe91f6",
   "metadata": {},
   "outputs": [
    {
     "name": "stdout",
     "output_type": "stream",
     "text": [
      "Student 1 performed better than Student 2 in Science with a difference of 15\n"
     ]
    }
   ],
   "source": [
    "Science_compared = scores[0,2] - scores[1,2]\n",
    "print(f\"Student 1 performed better than Student 2 in Science with a difference of {Science_compared}\")"
   ]
  },
  {
   "cell_type": "code",
   "execution_count": 170,
   "id": "6ff92455",
   "metadata": {},
   "outputs": [
    {
     "name": "stdout",
     "output_type": "stream",
     "text": [
      "Student 1 performed better overall than Student 2 with an overall difference of 20\n"
     ]
    }
   ],
   "source": [
    "studen1_overall_scores = np.sum(scores[0])\n",
    "\n",
    "student2_overall_scores = np.sum(scores[1])\n",
    "\n",
    "student_overall_compared = studen1_overall_scores - student2_overall_scores\n",
    "\n",
    "print(f\"Student 1 performed better overall than Student 2 with an overall difference of {student_overall_compared}\")"
   ]
  },
  {
   "cell_type": "markdown",
   "id": "66981348",
   "metadata": {},
   "source": [
    "### Add-on Exercises"
   ]
  },
  {
   "cell_type": "markdown",
   "id": "0875d4a9",
   "metadata": {},
   "source": [
    "#### Exercise 1. \n",
    "$$\n",
    "Scores = \\begin{bmatrix}\n",
    "80 & 70 & 90 & 50 \\\\\n",
    "60 & 85 & 75 & 60 \\\\\n",
    "95 & 88 & 92 & 70 \\\\\n",
    "70 & 60 & 65 & 80 \\\\\n",
    "70 & 55 & 75 & 60 \n",
    "\n",
    "\n",
    "\\end{bmatrix}"
   ]
  },
  {
   "cell_type": "code",
   "execution_count": 189,
   "id": "f9d7089e",
   "metadata": {},
   "outputs": [
    {
     "name": "stdout",
     "output_type": "stream",
     "text": [
      "[[80 70 90 50]\n",
      " [60 85 75 60]\n",
      " [95 88 92 70]\n",
      " [70 60 65 80]\n",
      " [70 55 75 60]]\n"
     ]
    }
   ],
   "source": [
    "scores = np.array([[80,70,90,50],[60,85,75,60],[95,88,92,70],[70,60,65,80],[70,55,75,60]])\n",
    "student1_scores = np.array([80,70,90,50])\n",
    "student2_scores = np.array([60,85,75,60])\n",
    "student3_scores = np.array([95,88,92,70])\n",
    "student4_scores = np.array([70,60,65,80])\n",
    "student5_scores = np.array([70,55,75,60])\n",
    "print(scores)"
   ]
  },
  {
   "cell_type": "markdown",
   "id": "88b25ed8",
   "metadata": {},
   "source": [
    "#### 3.2 Total Scores per Student (Vector Addition)\n",
    "\n",
    "student 1 = [80 + 70 + 90 + 50] = 290\n",
    "<br>\n",
    "\n",
    "student 2 = [60 + 85 + 75 + 60] = 280\n",
    "<br>\n",
    "\n",
    "student 3 = [95 + 88 + 92 + 70] = 345\n",
    "<br>\n",
    "\n",
    "student 4 = [70 + 60 + 65 + 80] = 275\n",
    "<br>\n",
    "\n",
    "student 5 = [70 + 55 + 75 + 60] = 260"
   ]
  },
  {
   "cell_type": "code",
   "execution_count": 190,
   "id": "0bcbaa4c",
   "metadata": {},
   "outputs": [
    {
     "name": "stdout",
     "output_type": "stream",
     "text": [
      "Student 1 total score is 290\n"
     ]
    }
   ],
   "source": [
    "student1_scores.sum()\n",
    "print(f\"Student 1 total score is {student1_scores.sum()}\")"
   ]
  },
  {
   "cell_type": "code",
   "execution_count": 191,
   "id": "c807152b",
   "metadata": {},
   "outputs": [
    {
     "name": "stdout",
     "output_type": "stream",
     "text": [
      "Student 2 total score is 280\n"
     ]
    }
   ],
   "source": [
    "student2_scores.sum()\n",
    "print(f\"Student 2 total score is {student2_scores.sum()}\")"
   ]
  },
  {
   "cell_type": "code",
   "execution_count": 192,
   "id": "c72e68a4",
   "metadata": {},
   "outputs": [
    {
     "name": "stdout",
     "output_type": "stream",
     "text": [
      "Student 3 total score is 345\n"
     ]
    }
   ],
   "source": [
    "student3_scores.sum()\n",
    "print(f\"Student 3 total score is {student3_scores.sum()}\")"
   ]
  },
  {
   "cell_type": "code",
   "execution_count": 193,
   "id": "24d99a84",
   "metadata": {},
   "outputs": [
    {
     "name": "stdout",
     "output_type": "stream",
     "text": [
      "Student 4 total score is 275\n"
     ]
    }
   ],
   "source": [
    "student4_scores.sum()\n",
    "print(f\"Student 4 total score is {student4_scores.sum()}\")"
   ]
  },
  {
   "cell_type": "code",
   "execution_count": 194,
   "id": "f5952223",
   "metadata": {},
   "outputs": [
    {
     "name": "stdout",
     "output_type": "stream",
     "text": [
      "Student 4 total score is 260\n"
     ]
    }
   ],
   "source": [
    "student5_scores.sum()\n",
    "print(f\"Student 4 total score is {student5_scores.sum()}\")"
   ]
  },
  {
   "cell_type": "markdown",
   "id": "5f257b4d",
   "metadata": {},
   "source": [
    "#### 3.4 Average Score per Subject (Matrix Operations)\n",
    "\n",
    "Maths_Average = (80 + 60 + 95 + 70 + 70)/5 = 375/5 = 75\n",
    "<br>\n",
    "\n",
    "English_Average = (70 + 85 + 88 + 60 + 55)/5 = 358/5 = 71.6\n",
    "<br>\n",
    "\n",
    "Science_Average = (90 + 75 + 92 + 65 + 75)/5 = 397/5 = 79.4\n",
    "<br>\n",
    "\n",
    "Physics_Average = (50 + 60 + 70 + 80 + 60)/5 = 320/5 = 64"
   ]
  },
  {
   "cell_type": "code",
   "execution_count": 195,
   "id": "aa1f8e46",
   "metadata": {},
   "outputs": [
    {
     "name": "stdout",
     "output_type": "stream",
     "text": [
      "Average Maths scores : 75.0\n",
      "Average English scores : 71.6\n",
      "Average Science scores : 79.4\n",
      "Average Physics scores : 64.0\n"
     ]
    }
   ],
   "source": [
    "# Average Score per Students\n",
    "\n",
    "Scores_per_subject = np.mean(scores,axis = 0)\n",
    "scoress = ['Maths','English','Science','Physics']\n",
    "b = 1\n",
    "for scoress,st in zip(scoress,Scores_per_subject):\n",
    "    print(f\"Average {scoress} scores : {st}\")\n",
    "    b+=1"
   ]
  },
  {
   "cell_type": "markdown",
   "id": "6a4b025b",
   "metadata": {},
   "source": [
    "#### Exercise 2. \n",
    "Maths_scalar = 3\n",
    "<br>\n",
    "English_scalar = 1\n",
    "<br>\n",
    "Science_scalar = 1\n",
    "<br>\n",
    "\n",
    "Maths_weight = 3(Math_scores)\n",
    "\n",
    "$$\n",
    "Maths Weight = \\begin{bmatrix}\n",
    "240 \\\\\n",
    "180 \\\\\n",
    "285 \\\\\n",
    "210 \\\\\n",
    "210\n",
    "\\end{bmatrix}\n",
    "\n",
    "\n",
    "\n"
   ]
  },
  {
   "cell_type": "markdown",
   "id": "cf588543",
   "metadata": {},
   "source": [
    "Scores with Maths Weight \n",
    "\n",
    "\n",
    "\n",
    "$$\n",
    "Scores with MathsWeight = \\begin{bmatrix}\n",
    "240 & 70 & 90 & 50 \\\\\n",
    "180 & 85 & 75 & 60 \\\\\n",
    "285 & 88 & 92 & 70 \\\\\n",
    "210 & 60 & 65 & 80 \\\\\n",
    "210 & 55 & 75 & 60 \n",
    "\n",
    "\n",
    "\\end{bmatrix}"
   ]
  },
  {
   "cell_type": "code",
   "execution_count": 196,
   "id": "d5e13559",
   "metadata": {},
   "outputs": [
    {
     "name": "stdout",
     "output_type": "stream",
     "text": [
      "Mathematics Weight : [240 180 285 210 210]\n"
     ]
    }
   ],
   "source": [
    "scalar_weight = [3,1,1]\n",
    "Maths_weight = scalar_weight[0] * scores[:,0]\n",
    "print(\"Mathematics Weight :\",Maths_weight)"
   ]
  },
  {
   "cell_type": "code",
   "execution_count": 197,
   "id": "c0cd8789",
   "metadata": {},
   "outputs": [
    {
     "name": "stdout",
     "output_type": "stream",
     "text": [
      "[[80 70 90 50]\n",
      " [60 85 75 60]\n",
      " [95 88 92 70]\n",
      " [70 60 65 80]\n",
      " [70 55 75 60]]\n"
     ]
    }
   ],
   "source": [
    "new_scores = scores.copy()\n",
    "print(new_scores)"
   ]
  },
  {
   "cell_type": "code",
   "execution_count": 198,
   "id": "2d901902",
   "metadata": {},
   "outputs": [
    {
     "name": "stdout",
     "output_type": "stream",
     "text": [
      "The new scores : \n",
      "[[240  70  90  50]\n",
      " [180  85  75  60]\n",
      " [285  88  92  70]\n",
      " [210  60  65  80]\n",
      " [210  55  75  60]]\n"
     ]
    }
   ],
   "source": [
    "new_scores[:,0] = Maths_weight\n",
    "print(f\"The new scores : \\n{new_scores}\")"
   ]
  },
  {
   "cell_type": "markdown",
   "id": "e3107afc",
   "metadata": {},
   "source": [
    "#### Exercise 3. \n",
    "weight_vector = [0.4 , 0.2 ,0.3,0.1]\n",
    "\n",
    "Math_final_grades :\n",
    "$$\n",
    "0.4*Maths_Scores = \\begin{bmatrix}\n",
    "32 \\\\\n",
    "24 \\\\\n",
    "38 \\\\\n",
    "28 \\\\\n",
    "28\n",
    "\\end{bmatrix}\n"
   ]
  },
  {
   "cell_type": "code",
   "execution_count": 199,
   "id": "7ed4e8b4",
   "metadata": {},
   "outputs": [
    {
     "name": "stdout",
     "output_type": "stream",
     "text": [
      "Mathematics Final grades : \n",
      "[[32.]\n",
      " [24.]\n",
      " [38.]\n",
      " [28.]\n",
      " [28.]]\n"
     ]
    }
   ],
   "source": [
    "# Math fnal grades \n",
    "scalar_math = 0.4\n",
    "Math_final_grades = scalar_math * scores[:,0]\n",
    "print(f\"Mathematics Final grades : \\n{Math_final_grades.reshape(5,1)}\")"
   ]
  },
  {
   "cell_type": "markdown",
   "id": "b603b65b",
   "metadata": {},
   "source": [
    "\n",
    "\n",
    "English_final_grades :\n",
    "$$\n",
    "0.2*English_Scores = \\begin{bmatrix}\n",
    "14 \\\\\n",
    "17 \\\\\n",
    "17.6 \\\\\n",
    "12 \\\\\n",
    "11\n",
    "\\end{bmatrix}\n"
   ]
  },
  {
   "cell_type": "code",
   "execution_count": 200,
   "id": "fd594a3d",
   "metadata": {},
   "outputs": [
    {
     "name": "stdout",
     "output_type": "stream",
     "text": [
      "English Final grades : \n",
      "[[14. ]\n",
      " [17. ]\n",
      " [17.6]\n",
      " [12. ]\n",
      " [11. ]]\n"
     ]
    }
   ],
   "source": [
    "# English fnal grades \n",
    "scalar_english = 0.2\n",
    "English_final_grades = scalar_english * scores[:,1]\n",
    "print(f\"English Final grades : \\n{English_final_grades.reshape(5,1)}\")"
   ]
  },
  {
   "cell_type": "markdown",
   "id": "d96eec53",
   "metadata": {},
   "source": [
    "Science_final_grades :\n",
    "$$\n",
    "0.3*Science_Scores = \\begin{bmatrix}\n",
    "27 \\\\\n",
    "22.5 \\\\\n",
    "27.6 \\\\\n",
    "19.5 \\\\\n",
    "22.5\n",
    "\\end{bmatrix}\n"
   ]
  },
  {
   "cell_type": "code",
   "execution_count": 201,
   "id": "82a04f1b",
   "metadata": {},
   "outputs": [
    {
     "name": "stdout",
     "output_type": "stream",
     "text": [
      "Science Final grades : \n",
      "[[27. ]\n",
      " [22.5]\n",
      " [27.6]\n",
      " [19.5]\n",
      " [22.5]]\n"
     ]
    }
   ],
   "source": [
    "# Science fnal grades \n",
    "scalar_science = 0.3\n",
    "Science_final_grades = scalar_science * scores[:,2]\n",
    "print(f\"Science Final grades : \\n{Science_final_grades.reshape(5,1)}\")"
   ]
  },
  {
   "cell_type": "markdown",
   "id": "3f84d845",
   "metadata": {},
   "source": [
    "Physics_final_grades :\n",
    "$$\n",
    "0.1*Science_Scores = \\begin{bmatrix}\n",
    "5 \\\\\n",
    "6 \\\\\n",
    "7 \\\\\n",
    "8 \\\\\n",
    "6\n",
    "\\end{bmatrix}\n"
   ]
  },
  {
   "cell_type": "code",
   "execution_count": 202,
   "id": "c1113585",
   "metadata": {},
   "outputs": [
    {
     "name": "stdout",
     "output_type": "stream",
     "text": [
      "Physics Final grades : \n",
      "[[5.]\n",
      " [6.]\n",
      " [7.]\n",
      " [8.]\n",
      " [6.]]\n"
     ]
    }
   ],
   "source": [
    "# Physics final grades \n",
    "scalar_physics = 0.1\n",
    "physics_final_grades = scalar_physics * scores[:,3]\n",
    "print(f\"Physics Final grades : \\n{physics_final_grades.reshape(5,1)}\")"
   ]
  },
  {
   "cell_type": "code",
   "execution_count": 203,
   "id": "6acec40d",
   "metadata": {},
   "outputs": [
    {
     "name": "stdout",
     "output_type": "stream",
     "text": [
      "[[32.  14.  27.   5. ]\n",
      " [24.  17.  22.5  6. ]\n",
      " [38.  17.6 27.6  7. ]\n",
      " [28.  12.  19.5  8. ]\n",
      " [28.  11.  22.5  6. ]]\n"
     ]
    }
   ],
   "source": [
    "math_grades = np.array([[32.],\n",
    "                        [24.],\n",
    "                        [38.],\n",
    "                        [28.],\n",
    "                        [28.]])\n",
    "\n",
    "\n",
    "english_grades = np.array([[14. ],\n",
    "                           [17. ],\n",
    "                           [17.6],\n",
    "                           [12. ],\n",
    "                           [11. ]])\n",
    "\n",
    "\n",
    "\n",
    "\n",
    "science_grades = np.array([[27. ],\n",
    "                           [22.5],\n",
    "                           [27.6],\n",
    "                           [19.5],\n",
    "                           [22.5]])\n",
    "\n",
    "\n",
    "physics_grades = np.array([[5.],\n",
    "                           [6.],\n",
    "                           [7.],\n",
    "                           [8.],\n",
    "                           [6.]])\n",
    "\n",
    "\n",
    "\n",
    "final_grades_matrix = np.hstack((math_grades, english_grades, science_grades, physics_grades))\n",
    "\n",
    "print(final_grades_matrix)"
   ]
  },
  {
   "cell_type": "markdown",
   "id": "735e8678",
   "metadata": {},
   "source": [
    "#### Exercise 4\n",
    "\n",
    "Matrix slice (rows 2–3, all columns):\n",
    "\n",
    "Student 3 = [95, 88, 92, 70]\n",
    "<br>\n",
    "Student 4 = [70, 60, 65, 80]\n",
    "\n",
    "Difference (Student4 – Student3):\n",
    "= [70-95, 60-88, 65-92, 80-70]\n",
    "= [-25, -28, -27, 10]\n",
    "\n",
    "Interpretation:\n",
    "\n",
    "Negative = Student 3 performed better.\n",
    "Positive = Student 4 performed better.\n",
    "So:\n",
    "\n",
    "Maths: Student 3 better by 25\n",
    "English: Student 3 better by 28\n",
    "Science: Student 3 better by 27\n",
    "Computer: Student 4 better by 10"
   ]
  },
  {
   "cell_type": "code",
   "execution_count": 204,
   "id": "f9cf7e8d",
   "metadata": {},
   "outputs": [
    {
     "name": "stdout",
     "output_type": "stream",
     "text": [
      "Scores of Student 3 and 4 only: \n",
      " [[95 88 92 70]\n",
      " [70 60 65 80]]\n",
      "\n",
      "Comparing Student 3 and 4 Scores(By Subject): \n",
      "[[-25 -28 -27  10]]\n",
      "Student 3 performed better in Subject 1 by 25 marks\n",
      "Student 3 performed better in Subject 2 by 28 marks\n",
      "Student 3 performed better in Subject 3 by 27 marks\n",
      "Student 4 performed better in Subject 4 by 10 marks\n"
     ]
    }
   ],
   "source": [
    "student3_and_4 = scores[2:4, :]\n",
    "print(f\"Scores of Student 3 and 4 only: \\n {student3_and_4}\")\n",
    "diff_matrix = np.diff(student3_and_4, axis=0)\n",
    "print(f\"\\nComparing Student 3 and 4 Scores(By Subject): \\n{diff_matrix}\")\n",
    "\n",
    "i=0\n",
    "for diff in diff_matrix[0]:\n",
    "    if diff < 0:\n",
    "        print(f\"Student 3 performed better in Subject {i+1} by {abs(diff)} marks\")\n",
    "    else: \n",
    "        print(f\"Student 4 performed better in Subject {i+1} by {abs(diff)} marks\")\n",
    "        \n",
    "    i+=1"
   ]
  }
 ],
 "metadata": {
  "kernelspec": {
   "display_name": "Python 3",
   "language": "python",
   "name": "python3"
  },
  "language_info": {
   "codemirror_mode": {
    "name": "ipython",
    "version": 3
   },
   "file_extension": ".py",
   "mimetype": "text/x-python",
   "name": "python",
   "nbconvert_exporter": "python",
   "pygments_lexer": "ipython3",
   "version": "3.13.7"
  }
 },
 "nbformat": 4,
 "nbformat_minor": 5
}
