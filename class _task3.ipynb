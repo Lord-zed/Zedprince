{
 "cells": [
  {
   "cell_type": "markdown",
   "id": "76a9bdb1",
   "metadata": {},
   "source": [
    "# Question 1"
   ]
  },
  {
   "cell_type": "markdown",
   "id": "8ef89f9b",
   "metadata": {},
   "source": [
    "a.&emsp;_(cA)_ &emsp; = &emsp; 2 $\\begin{bmatrix}2&-1\\cr0&3\\end{bmatrix}$ &emsp; = &emsp; $\\begin{bmatrix}4&-2\\cr0&6\\end{bmatrix}$"
   ]
  },
  {
   "cell_type": "markdown",
   "id": "2ec0cef9",
   "metadata": {},
   "source": [
    "&emsp;  _(dB)_ &emsp; = &emsp; 3 $\\begin{bmatrix}1&4\\cr-2&5\\end{bmatrix}$ &emsp; = &emsp; $\\begin{bmatrix}3&12\\cr-6&15\\end{bmatrix}$"
   ]
  },
  {
   "cell_type": "markdown",
   "id": "ca9465c3",
   "metadata": {},
   "source": [
    "&emsp; _(c+d)A_ &emsp; = (2+3) $\\begin{bmatrix}2&-1\\cr0&3\\end{bmatrix}$ &emsp; = &emsp; 5 $\\begin{bmatrix}2&-1\\cr0&3\\end{bmatrix}$ &emsp; = &emsp;$\\begin{bmatrix}10&-5\\cr0&15\\end{bmatrix}$"
   ]
  },
  {
   "cell_type": "markdown",
   "id": "f9e17d35",
   "metadata": {},
   "source": [
    "# Question 2"
   ]
  },
  {
   "cell_type": "markdown",
   "id": "fea350b7",
   "metadata": {},
   "source": [
    "&emsp; (c + d)A &emsp; = &emsp;    cA + dA"
   ]
  },
  {
   "cell_type": "markdown",
   "id": "9916bffe",
   "metadata": {},
   "source": [
    "&emsp; &emsp; &emsp; &emsp; &emsp; = &emsp; 2 * $\\begin{bmatrix}2&-1\\cr0&3\\end{bmatrix}$ + 3 * $\\begin{bmatrix}2&-1\\cr0&3\\end{bmatrix}$"
   ]
  },
  {
   "cell_type": "markdown",
   "id": "127c8a8a",
   "metadata": {},
   "source": [
    "&emsp; &emsp; &emsp; &emsp; &emsp; = &emsp; $\\begin{bmatrix}4&-2\\cr0&6\\end{bmatrix}$ + $\\begin{bmatrix}6&-3\\cr0&9\\end{bmatrix}$ "
   ]
  },
  {
   "cell_type": "markdown",
   "id": "24acb26a",
   "metadata": {},
   "source": [
    "&emsp; &emsp; &emsp; &emsp; &emsp; = &emsp; $\\begin{bmatrix}10&-5\\cr0&15\\end{bmatrix}$"
   ]
  },
  {
   "cell_type": "markdown",
   "id": "51bd448a",
   "metadata": {},
   "source": [
    "# Question 3"
   ]
  },
  {
   "cell_type": "markdown",
   "id": "80ad6e92",
   "metadata": {},
   "source": [
    "c.  Transpose of _`A`_ and _`B`_\n",
    "\n",
    "&emsp; &emsp; &emsp; $A^T=\\begin{bmatrix}2&0\\cr-1&3\\end{bmatrix}$ , &emsp; &emsp; &emsp; $B^T=\\begin{bmatrix}1&-2\\cr4&5\\end{bmatrix}$"
   ]
  },
  {
   "cell_type": "markdown",
   "id": "2d72fe24",
   "metadata": {},
   "source": [
    "# Question 4"
   ]
  },
  {
   "cell_type": "markdown",
   "id": "550a90b6",
   "metadata": {},
   "source": [
    "For _`A`_;\n",
    "&emsp; &emsp;  _det(A)_ &emsp; = &emsp; (ad - bc) \n",
    "\n",
    "&emsp; &emsp; &emsp; &emsp; &emsp;  = &emsp; (2 * 3) - (-1 * 0) \n",
    "\n",
    "&emsp; &emsp; &emsp; &emsp; &emsp; = &emsp; 6 - 0 &emsp; = &emsp; 6  "
   ]
  },
  {
   "cell_type": "markdown",
   "id": "d255893b",
   "metadata": {},
   "source": [
    "Since  _det(A)_ != 0, then it is invertible"
   ]
  },
  {
   "cell_type": "markdown",
   "id": "b3aa98e3",
   "metadata": {},
   "source": [
    "Then $A^{-1}$ &emsp; = &emsp; [($\\frac{1}{det(A)}$) * $\\begin{bmatrix}3&-(-1)\\cr-0&2\\end{bmatrix}$] &emsp; = &emsp;\n",
    "[($\\frac{1}{6}$) * $\\begin{bmatrix}3&1\\cr0&2\\end{bmatrix}$] &emsp; = &emsp; $\\begin{bmatrix}3 \\div 6&1 \\div 6\\cr0 \\div 6&2 \\div 6\\end{bmatrix}$ &emsp; = &emsp;\n",
    "$\\begin{bmatrix}1 \\div 2&1 \\div 6\\cr0 \\div 6&1 \\div 3\\end{bmatrix}$ &emsp; = &emsp; $\\begin{bmatrix}\\frac{1}{2}&\\frac{1}{6}\\cr0&\\frac{1}{3}\\end{bmatrix}$"
   ]
  },
  {
   "cell_type": "markdown",
   "id": "fb146918",
   "metadata": {},
   "source": [
    "Therefore, &emsp; $A^{-1}$.A &emsp; = &emsp; $\\begin{bmatrix}\\frac{1}{2}&\\frac{1}{6}\\cr0&\\frac{1}{3}\\end{bmatrix}$.$\\begin{bmatrix}2&-1\\cr0&3\\end{bmatrix}$ &emsp; = &emsp;\n",
    "$\\begin{bmatrix}1&0\\cr0&1\\end{bmatrix}$ &emsp; = &emsp; $I_{2}$"
   ]
  },
  {
   "cell_type": "markdown",
   "id": "53fd6800",
   "metadata": {},
   "source": [
    "For _`B`_;\n",
    "\n",
    "&emsp; &emsp;  _det(B)_ &emsp; = &emsp; (ad - bc) \n",
    "\n",
    "&emsp; &emsp; &emsp; &emsp; &emsp; = &emsp; (1 * 5) - (4 * -2) \n",
    "\n",
    "&emsp; &emsp; &emsp; &emsp; &emsp; = &emsp; 5 + 8 &emsp; = &emsp; 13"
   ]
  },
  {
   "cell_type": "markdown",
   "id": "1f70d9e1",
   "metadata": {},
   "source": [
    "Since  _det(B)_ != 0, then it is invertible"
   ]
  },
  {
   "cell_type": "markdown",
   "id": "48c71dff",
   "metadata": {},
   "source": [
    "Then  $B^{-1}$ &emsp; = &emsp; [($\\frac{1}{det(B)}$) * $\\begin{bmatrix}5&-(4)\\cr-(-2)&1\\end{bmatrix}$] &emsp; = &emsp;\n",
    "[($\\frac{1}{13}$) * $\\begin{bmatrix}5&-4\\cr2&1\\end{bmatrix}$] &emsp; = &emsp; $\\begin{bmatrix}5 \\div 13&-4 \\div 13\\cr2 \\div 13&1 \\div 13\\end{bmatrix}$ &emsp; = &emsp;\n",
    " $\\begin{bmatrix}\\frac{5}{13}&\\frac{-4}{13}\\cr\\frac{2}{13}&\\frac{1}{13}\\end{bmatrix}$"
   ]
  },
  {
   "cell_type": "markdown",
   "id": "1c91c3e0",
   "metadata": {},
   "source": [
    "Therefore, &emsp; $B^{-1}$.B &emsp; = &emsp; $\\begin{bmatrix}\\frac{5}{13}&\\frac{-4}{13}\\cr\\frac{2}{13}&\\frac{1}{13}\\end{bmatrix}$.$\\begin{bmatrix}1&4\\cr-2&5\\end{bmatrix}$ &emsp; = &emsp;\n",
    "$\\begin{bmatrix}1&0\\cr0&1\\end{bmatrix}$ &emsp; = &emsp; $I_{2}$"
   ]
  }
 ],
 "metadata": {
  "language_info": {
   "name": "python"
  }
 },
 "nbformat": 4,
 "nbformat_minor": 5
}
